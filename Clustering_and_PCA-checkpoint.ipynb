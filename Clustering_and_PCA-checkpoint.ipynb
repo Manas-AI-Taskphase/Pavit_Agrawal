{
 "cells": [
  {
   "cell_type": "code",
   "execution_count": 1,
   "id": "548e0586-eaed-46a9-bbb0-55077c21c6bd",
   "metadata": {},
   "outputs": [],
   "source": [
    "import pandas as pd\n",
    "import numpy as np\n",
    "import matplotlib.pyplot as plt\n",
    "from sklearn.decomposition import PCA\n",
    "from sklearn.preprocessing import StandardScaler"
   ]
  },
  {
   "cell_type": "code",
   "execution_count": 10,
   "id": "d1ef21b1-3a70-49cc-b7db-cd4e456cbebe",
   "metadata": {},
   "outputs": [],
   "source": [
    "file_path = \"C:/Users/Nitu Agarwal/Downloads/Clustering_dataset/weatherAUS.csv\"\n",
    "df = pd.read_csv(file_path)"
   ]
  },
  {
   "cell_type": "code",
   "execution_count": 32,
   "id": "1c8b9cc2-2a9d-4922-8172-941993a8d51a",
   "metadata": {},
   "outputs": [
    {
     "ename": "AttributeError",
     "evalue": "'numpy.ndarray' object has no attribute 'replace'",
     "output_type": "error",
     "traceback": [
      "\u001b[1;31m---------------------------------------------------------------------------\u001b[0m",
      "\u001b[1;31mAttributeError\u001b[0m                            Traceback (most recent call last)",
      "Cell \u001b[1;32mIn[32], line 1\u001b[0m\n\u001b[1;32m----> 1\u001b[0m \u001b[43mdf\u001b[49m\u001b[38;5;241;43m.\u001b[39;49m\u001b[43mreplace\u001b[49m(\u001b[38;5;124m'\u001b[39m\u001b[38;5;124mYes\u001b[39m\u001b[38;5;124m'\u001b[39m, \u001b[38;5;241m1\u001b[39m, inplace\u001b[38;5;241m=\u001b[39m\u001b[38;5;28;01mTrue\u001b[39;00m)\n\u001b[0;32m      2\u001b[0m df\u001b[38;5;241m.\u001b[39mreplace(\u001b[38;5;124m'\u001b[39m\u001b[38;5;124mNo\u001b[39m\u001b[38;5;124m'\u001b[39m, \u001b[38;5;241m0\u001b[39m, inplace\u001b[38;5;241m=\u001b[39m\u001b[38;5;28;01mTrue\u001b[39;00m)\n\u001b[0;32m      3\u001b[0m df\u001b[38;5;241m.\u001b[39mfillna(\u001b[38;5;241m0\u001b[39m, inplace\u001b[38;5;241m=\u001b[39m\u001b[38;5;28;01mTrue\u001b[39;00m)\n",
      "\u001b[1;31mAttributeError\u001b[0m: 'numpy.ndarray' object has no attribute 'replace'"
     ]
    }
   ],
   "source": [
    "df.replace('Yes', 1, inplace=True)\n",
    "df.replace('No', 0, inplace=True)\n",
    "df.fillna(0, inplace=True)\n",
    "df.drop(df.select_dtypes(['object']).columns, axis=1, inplace=True)\n",
    "print(df)\n",
    "scaler = StandardScaler()\n",
    "df = scaler.fit_transform(df)\n",
    "print (pd.DataFrame(df))"
   ]
  },
  {
   "cell_type": "code",
   "execution_count": 21,
   "id": "3d8d699e-dc76-4ced-8f40-564cf8844ebd",
   "metadata": {},
   "outputs": [],
   "source": [
    "def kmeans(X, k, max_iters=100):\n",
    "    centroids = X[np.random.choice(len(X), k, replace=False)]\n",
    "    \n",
    "    for _ in range(max_iters):\n",
    "        labels = np.argmin(np.linalg.norm(X[:, np.newaxis] - centroids, axis=2), axis=1)\n",
    "        centroids = np.array([X[labels == j].mean(axis=0) for j in range(k)])\n",
    "    \n",
    "    return centroids, labels"
   ]
  },
  {
   "cell_type": "code",
   "execution_count": 22,
   "id": "753904d2-6f78-4e2f-af78-e00a2c918b33",
   "metadata": {},
   "outputs": [],
   "source": [
    "def calculate_sse(X, centroids, labels):\n",
    "    sse = 0\n",
    "    for i in range(len(centroids)):\n",
    "        sse += np.sum((X[labels == i] - centroids[i])**2)\n",
    "    return sse"
   ]
  },
  {
   "cell_type": "code",
   "execution_count": 23,
   "id": "5d67b844-85dc-4e90-9a28-1ff47f0a907f",
   "metadata": {},
   "outputs": [],
   "source": [
    "def find_optimal_k(X, max_k=10):\n",
    "    sse_values = []\n",
    "    for k in range(1, max_k + 1):\n",
    "        centroids, labels = kmeans(X, k)\n",
    "        sse = calculate_sse(X, centroids, labels)\n",
    "        sse_values.append(sse)\n",
    "    \n",
    "    return sse_values"
   ]
  },
  {
   "cell_type": "code",
   "execution_count": null,
   "id": "51955c04-cdac-4c16-b116-48525f34d545",
   "metadata": {},
   "outputs": [],
   "source": [
    "def plot_elbow(sse_values):\n",
    "    plt.plot(range(1, len(sse_values) + 1), sse_values, marker='o')\n",
    "    plt.title('Elbow Method for Optimal K')\n",
    "    plt.xlabel('Number of Clusters (K)')\n",
    "    plt.ylabel('Sum of Squared Distances (SSE)')\n",
    "    plt.show()"
   ]
  },
  {
   "cell_type": "code",
   "execution_count": null,
   "id": "8e515f84-858d-489a-a2b6-be16fe2983a3",
   "metadata": {},
   "outputs": [],
   "source": [
    "max_clusters = 10\n",
    "sse_values = find_optimal_k(data_scaled, max_k=max_clusters)\n",
    "plot_elbow(sse_values)\n",
    "optimal_k = 3"
   ]
  },
  {
   "cell_type": "code",
   "execution_count": null,
   "id": "0d055f8e-6e09-43c3-8767-360201c3cea7",
   "metadata": {},
   "outputs": [],
   "source": []
  }
 ],
 "metadata": {
  "kernelspec": {
   "display_name": "Python 3 (ipykernel)",
   "language": "python",
   "name": "python3"
  },
  "language_info": {
   "codemirror_mode": {
    "name": "ipython",
    "version": 3
   },
   "file_extension": ".py",
   "mimetype": "text/x-python",
   "name": "python",
   "nbconvert_exporter": "python",
   "pygments_lexer": "ipython3",
   "version": "3.11.4"
  }
 },
 "nbformat": 4,
 "nbformat_minor": 5
}
